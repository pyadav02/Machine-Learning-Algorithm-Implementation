{
 "cells": [
  {
   "cell_type": "code",
   "execution_count": 1,
   "id": "3fda1444",
   "metadata": {},
   "outputs": [],
   "source": [
    "import pandas as pd"
   ]
  },
  {
   "cell_type": "code",
   "execution_count": 2,
   "id": "72c81e9a",
   "metadata": {},
   "outputs": [],
   "source": [
    "data = pd.read_csv('nba_final.csv')"
   ]
  },
  {
   "cell_type": "code",
   "execution_count": 3,
   "id": "01936be1",
   "metadata": {},
   "outputs": [
    {
     "data": {
      "text/html": [
       "<div>\n",
       "<style scoped>\n",
       "    .dataframe tbody tr th:only-of-type {\n",
       "        vertical-align: middle;\n",
       "    }\n",
       "\n",
       "    .dataframe tbody tr th {\n",
       "        vertical-align: top;\n",
       "    }\n",
       "\n",
       "    .dataframe thead th {\n",
       "        text-align: right;\n",
       "    }\n",
       "</style>\n",
       "<table border=\"1\" class=\"dataframe\">\n",
       "  <thead>\n",
       "    <tr style=\"text-align: right;\">\n",
       "      <th></th>\n",
       "      <th>Rk</th>\n",
       "      <th>Player.x</th>\n",
       "      <th>Player_ID</th>\n",
       "      <th>Pos1</th>\n",
       "      <th>Pos2</th>\n",
       "      <th>Age</th>\n",
       "      <th>Tm</th>\n",
       "      <th>G</th>\n",
       "      <th>GS</th>\n",
       "      <th>MP</th>\n",
       "      <th>...</th>\n",
       "      <th>Conference</th>\n",
       "      <th>Role</th>\n",
       "      <th>Fvot</th>\n",
       "      <th>FRank</th>\n",
       "      <th>Pvot</th>\n",
       "      <th>PRank</th>\n",
       "      <th>Mvot</th>\n",
       "      <th>MRank</th>\n",
       "      <th>Score</th>\n",
       "      <th>Play</th>\n",
       "    </tr>\n",
       "  </thead>\n",
       "  <tbody>\n",
       "    <tr>\n",
       "      <th>0</th>\n",
       "      <td>170</td>\n",
       "      <td>A.J. Hammons</td>\n",
       "      <td>hammoaj01</td>\n",
       "      <td>C</td>\n",
       "      <td>NaN</td>\n",
       "      <td>24</td>\n",
       "      <td>DAL</td>\n",
       "      <td>22</td>\n",
       "      <td>0</td>\n",
       "      <td>7.4</td>\n",
       "      <td>...</td>\n",
       "      <td>West</td>\n",
       "      <td>Front</td>\n",
       "      <td>786</td>\n",
       "      <td>123</td>\n",
       "      <td>NaN</td>\n",
       "      <td>NaN</td>\n",
       "      <td>NaN</td>\n",
       "      <td>NaN</td>\n",
       "      <td>83.5</td>\n",
       "      <td>No</td>\n",
       "    </tr>\n",
       "    <tr>\n",
       "      <th>1</th>\n",
       "      <td>58</td>\n",
       "      <td>Aaron Brooks</td>\n",
       "      <td>brookaa01</td>\n",
       "      <td>PG</td>\n",
       "      <td>NaN</td>\n",
       "      <td>32</td>\n",
       "      <td>IND</td>\n",
       "      <td>65</td>\n",
       "      <td>0</td>\n",
       "      <td>13.8</td>\n",
       "      <td>...</td>\n",
       "      <td>Est</td>\n",
       "      <td>Back</td>\n",
       "      <td>2474</td>\n",
       "      <td>64</td>\n",
       "      <td>NaN</td>\n",
       "      <td>NaN</td>\n",
       "      <td>NaN</td>\n",
       "      <td>NaN</td>\n",
       "      <td>48.2</td>\n",
       "      <td>No</td>\n",
       "    </tr>\n",
       "    <tr>\n",
       "      <th>2</th>\n",
       "      <td>157</td>\n",
       "      <td>Aaron Gordon</td>\n",
       "      <td>gordoaa01</td>\n",
       "      <td>SF</td>\n",
       "      <td>NaN</td>\n",
       "      <td>21</td>\n",
       "      <td>ORL</td>\n",
       "      <td>80</td>\n",
       "      <td>72</td>\n",
       "      <td>28.7</td>\n",
       "      <td>...</td>\n",
       "      <td>Est</td>\n",
       "      <td>Front</td>\n",
       "      <td>22774</td>\n",
       "      <td>29</td>\n",
       "      <td>NaN</td>\n",
       "      <td>NaN</td>\n",
       "      <td>NaN</td>\n",
       "      <td>NaN</td>\n",
       "      <td>40.0</td>\n",
       "      <td>No</td>\n",
       "    </tr>\n",
       "    <tr>\n",
       "      <th>3</th>\n",
       "      <td>352</td>\n",
       "      <td>Adreian Payne</td>\n",
       "      <td>paynead01</td>\n",
       "      <td>PF</td>\n",
       "      <td>NaN</td>\n",
       "      <td>25</td>\n",
       "      <td>MIN</td>\n",
       "      <td>18</td>\n",
       "      <td>0</td>\n",
       "      <td>7.5</td>\n",
       "      <td>...</td>\n",
       "      <td>West</td>\n",
       "      <td>Front</td>\n",
       "      <td>861</td>\n",
       "      <td>120</td>\n",
       "      <td>1.0</td>\n",
       "      <td>52.0</td>\n",
       "      <td>NaN</td>\n",
       "      <td>NaN</td>\n",
       "      <td>75.5</td>\n",
       "      <td>No</td>\n",
       "    </tr>\n",
       "    <tr>\n",
       "      <th>4</th>\n",
       "      <td>10</td>\n",
       "      <td>Al-Farouq Aminu</td>\n",
       "      <td>aminual01</td>\n",
       "      <td>PF</td>\n",
       "      <td>NaN</td>\n",
       "      <td>26</td>\n",
       "      <td>POR</td>\n",
       "      <td>61</td>\n",
       "      <td>25</td>\n",
       "      <td>29.1</td>\n",
       "      <td>...</td>\n",
       "      <td>West</td>\n",
       "      <td>Front</td>\n",
       "      <td>4971</td>\n",
       "      <td>69</td>\n",
       "      <td>7.0</td>\n",
       "      <td>23.0</td>\n",
       "      <td>NaN</td>\n",
       "      <td>NaN</td>\n",
       "      <td>42.8</td>\n",
       "      <td>No</td>\n",
       "    </tr>\n",
       "  </tbody>\n",
       "</table>\n",
       "<p>5 rows × 45 columns</p>\n",
       "</div>"
      ],
      "text/plain": [
       "    Rk         Player.x  Player_ID Pos1 Pos2  Age   Tm   G  GS    MP  ...  \\\n",
       "0  170     A.J. Hammons  hammoaj01    C  NaN   24  DAL  22   0   7.4  ...   \n",
       "1   58     Aaron Brooks  brookaa01   PG  NaN   32  IND  65   0  13.8  ...   \n",
       "2  157     Aaron Gordon  gordoaa01   SF  NaN   21  ORL  80  72  28.7  ...   \n",
       "3  352    Adreian Payne  paynead01   PF  NaN   25  MIN  18   0   7.5  ...   \n",
       "4   10  Al-Farouq Aminu  aminual01   PF  NaN   26  POR  61  25  29.1  ...   \n",
       "\n",
       "   Conference   Role   Fvot  FRank  Pvot  PRank  Mvot  MRank  Score  Play  \n",
       "0        West  Front    786    123   NaN    NaN   NaN    NaN   83.5    No  \n",
       "1         Est   Back   2474     64   NaN    NaN   NaN    NaN   48.2    No  \n",
       "2         Est  Front  22774     29   NaN    NaN   NaN    NaN   40.0    No  \n",
       "3        West  Front    861    120   1.0   52.0   NaN    NaN   75.5    No  \n",
       "4        West  Front   4971     69   7.0   23.0   NaN    NaN   42.8    No  \n",
       "\n",
       "[5 rows x 45 columns]"
      ]
     },
     "execution_count": 3,
     "metadata": {},
     "output_type": "execute_result"
    }
   ],
   "source": [
    "data.head()"
   ]
  },
  {
   "cell_type": "code",
   "execution_count": 4,
   "id": "0107dc01",
   "metadata": {},
   "outputs": [
    {
     "data": {
      "text/plain": [
       "Rk               0\n",
       "Player.x         0\n",
       "Player_ID        0\n",
       "Pos1             0\n",
       "Pos2          1396\n",
       "Age              0\n",
       "Tm               0\n",
       "G                0\n",
       "GS               0\n",
       "MP               0\n",
       "FG               0\n",
       "FGA              0\n",
       "FG.              4\n",
       "X3P              0\n",
       "X3PA             0\n",
       "X3P.            99\n",
       "X2P              0\n",
       "X2PA             0\n",
       "X2P.            15\n",
       "eFG.             4\n",
       "FT               0\n",
       "FTA              0\n",
       "FT.             47\n",
       "ORB              0\n",
       "DRB              0\n",
       "TRB              0\n",
       "AST              0\n",
       "STL              0\n",
       "BLK              0\n",
       "TOV              0\n",
       "PF               0\n",
       "PTS              0\n",
       "Salary          62\n",
       "mean_views     138\n",
       "Season           0\n",
       "Conference       0\n",
       "Role             0\n",
       "Fvot             0\n",
       "FRank            0\n",
       "Pvot           159\n",
       "PRank          159\n",
       "Mvot           404\n",
       "MRank          404\n",
       "Score            0\n",
       "Play             0\n",
       "dtype: int64"
      ]
     },
     "execution_count": 4,
     "metadata": {},
     "output_type": "execute_result"
    }
   ],
   "source": [
    "data.isnull().sum()"
   ]
  },
  {
   "cell_type": "code",
   "execution_count": 5,
   "id": "365f963b",
   "metadata": {},
   "outputs": [],
   "source": [
    "import numpy as np"
   ]
  },
  {
   "cell_type": "code",
   "execution_count": 6,
   "id": "29815907",
   "metadata": {},
   "outputs": [],
   "source": [
    "data['Pos2'] = data['Pos2'].replace(np.nan, 'NONE')"
   ]
  },
  {
   "cell_type": "code",
   "execution_count": 7,
   "id": "78ef3018",
   "metadata": {},
   "outputs": [],
   "source": [
    "data = data.fillna(0)"
   ]
  },
  {
   "cell_type": "code",
   "execution_count": 8,
   "id": "b5304d79",
   "metadata": {},
   "outputs": [
    {
     "data": {
      "text/plain": [
       "Rk            0\n",
       "Player.x      0\n",
       "Player_ID     0\n",
       "Pos1          0\n",
       "Pos2          0\n",
       "Age           0\n",
       "Tm            0\n",
       "G             0\n",
       "GS            0\n",
       "MP            0\n",
       "FG            0\n",
       "FGA           0\n",
       "FG.           0\n",
       "X3P           0\n",
       "X3PA          0\n",
       "X3P.          0\n",
       "X2P           0\n",
       "X2PA          0\n",
       "X2P.          0\n",
       "eFG.          0\n",
       "FT            0\n",
       "FTA           0\n",
       "FT.           0\n",
       "ORB           0\n",
       "DRB           0\n",
       "TRB           0\n",
       "AST           0\n",
       "STL           0\n",
       "BLK           0\n",
       "TOV           0\n",
       "PF            0\n",
       "PTS           0\n",
       "Salary        0\n",
       "mean_views    0\n",
       "Season        0\n",
       "Conference    0\n",
       "Role          0\n",
       "Fvot          0\n",
       "FRank         0\n",
       "Pvot          0\n",
       "PRank         0\n",
       "Mvot          0\n",
       "MRank         0\n",
       "Score         0\n",
       "Play          0\n",
       "dtype: int64"
      ]
     },
     "execution_count": 8,
     "metadata": {},
     "output_type": "execute_result"
    }
   ],
   "source": [
    "data.isnull().sum()"
   ]
  },
  {
   "cell_type": "code",
   "execution_count": 9,
   "id": "b0510dd4",
   "metadata": {},
   "outputs": [],
   "source": [
    "data.drop(columns = ['Player.x', 'Player_ID'], inplace = True)"
   ]
  },
  {
   "cell_type": "code",
   "execution_count": 10,
   "id": "918acce0",
   "metadata": {},
   "outputs": [
    {
     "data": {
      "text/html": [
       "<div>\n",
       "<style scoped>\n",
       "    .dataframe tbody tr th:only-of-type {\n",
       "        vertical-align: middle;\n",
       "    }\n",
       "\n",
       "    .dataframe tbody tr th {\n",
       "        vertical-align: top;\n",
       "    }\n",
       "\n",
       "    .dataframe thead th {\n",
       "        text-align: right;\n",
       "    }\n",
       "</style>\n",
       "<table border=\"1\" class=\"dataframe\">\n",
       "  <thead>\n",
       "    <tr style=\"text-align: right;\">\n",
       "      <th></th>\n",
       "      <th>Pos1</th>\n",
       "      <th>Pos2</th>\n",
       "      <th>Tm</th>\n",
       "      <th>Season</th>\n",
       "      <th>Conference</th>\n",
       "      <th>Role</th>\n",
       "      <th>Play</th>\n",
       "    </tr>\n",
       "  </thead>\n",
       "  <tbody>\n",
       "    <tr>\n",
       "      <th>0</th>\n",
       "      <td>C</td>\n",
       "      <td>NONE</td>\n",
       "      <td>DAL</td>\n",
       "      <td>2016-17</td>\n",
       "      <td>West</td>\n",
       "      <td>Front</td>\n",
       "      <td>No</td>\n",
       "    </tr>\n",
       "    <tr>\n",
       "      <th>1</th>\n",
       "      <td>PG</td>\n",
       "      <td>NONE</td>\n",
       "      <td>IND</td>\n",
       "      <td>2016-17</td>\n",
       "      <td>Est</td>\n",
       "      <td>Back</td>\n",
       "      <td>No</td>\n",
       "    </tr>\n",
       "    <tr>\n",
       "      <th>2</th>\n",
       "      <td>SF</td>\n",
       "      <td>NONE</td>\n",
       "      <td>ORL</td>\n",
       "      <td>2016-17</td>\n",
       "      <td>Est</td>\n",
       "      <td>Front</td>\n",
       "      <td>No</td>\n",
       "    </tr>\n",
       "    <tr>\n",
       "      <th>3</th>\n",
       "      <td>PF</td>\n",
       "      <td>NONE</td>\n",
       "      <td>MIN</td>\n",
       "      <td>2016-17</td>\n",
       "      <td>West</td>\n",
       "      <td>Front</td>\n",
       "      <td>No</td>\n",
       "    </tr>\n",
       "    <tr>\n",
       "      <th>4</th>\n",
       "      <td>PF</td>\n",
       "      <td>NONE</td>\n",
       "      <td>POR</td>\n",
       "      <td>2016-17</td>\n",
       "      <td>West</td>\n",
       "      <td>Front</td>\n",
       "      <td>No</td>\n",
       "    </tr>\n",
       "    <tr>\n",
       "      <th>...</th>\n",
       "      <td>...</td>\n",
       "      <td>...</td>\n",
       "      <td>...</td>\n",
       "      <td>...</td>\n",
       "      <td>...</td>\n",
       "      <td>...</td>\n",
       "      <td>...</td>\n",
       "    </tr>\n",
       "    <tr>\n",
       "      <th>1403</th>\n",
       "      <td>C</td>\n",
       "      <td>NONE</td>\n",
       "      <td>POR</td>\n",
       "      <td>2018-19</td>\n",
       "      <td>West</td>\n",
       "      <td>Front</td>\n",
       "      <td>No</td>\n",
       "    </tr>\n",
       "    <tr>\n",
       "      <th>1404</th>\n",
       "      <td>SG</td>\n",
       "      <td>NONE</td>\n",
       "      <td>CHI</td>\n",
       "      <td>2018-19</td>\n",
       "      <td>Est</td>\n",
       "      <td>Back</td>\n",
       "      <td>No</td>\n",
       "    </tr>\n",
       "    <tr>\n",
       "      <th>1405</th>\n",
       "      <td>SG</td>\n",
       "      <td>NONE</td>\n",
       "      <td>DET</td>\n",
       "      <td>2018-19</td>\n",
       "      <td>Est</td>\n",
       "      <td>Back</td>\n",
       "      <td>No</td>\n",
       "    </tr>\n",
       "    <tr>\n",
       "      <th>1406</th>\n",
       "      <td>C</td>\n",
       "      <td>NONE</td>\n",
       "      <td>DET</td>\n",
       "      <td>2018-19</td>\n",
       "      <td>Est</td>\n",
       "      <td>Front</td>\n",
       "      <td>No</td>\n",
       "    </tr>\n",
       "    <tr>\n",
       "      <th>1407</th>\n",
       "      <td>SG</td>\n",
       "      <td>NONE</td>\n",
       "      <td>PHI</td>\n",
       "      <td>2018-19</td>\n",
       "      <td>Est</td>\n",
       "      <td>Back</td>\n",
       "      <td>No</td>\n",
       "    </tr>\n",
       "  </tbody>\n",
       "</table>\n",
       "<p>1408 rows × 7 columns</p>\n",
       "</div>"
      ],
      "text/plain": [
       "     Pos1  Pos2   Tm   Season Conference   Role Play\n",
       "0       C  NONE  DAL  2016-17       West  Front   No\n",
       "1      PG  NONE  IND  2016-17        Est   Back   No\n",
       "2      SF  NONE  ORL  2016-17        Est  Front   No\n",
       "3      PF  NONE  MIN  2016-17       West  Front   No\n",
       "4      PF  NONE  POR  2016-17       West  Front   No\n",
       "...   ...   ...  ...      ...        ...    ...  ...\n",
       "1403    C  NONE  POR  2018-19       West  Front   No\n",
       "1404   SG  NONE  CHI  2018-19        Est   Back   No\n",
       "1405   SG  NONE  DET  2018-19        Est   Back   No\n",
       "1406    C  NONE  DET  2018-19        Est  Front   No\n",
       "1407   SG  NONE  PHI  2018-19        Est   Back   No\n",
       "\n",
       "[1408 rows x 7 columns]"
      ]
     },
     "execution_count": 10,
     "metadata": {},
     "output_type": "execute_result"
    }
   ],
   "source": [
    "#look at the columns which have text values in them\n",
    "data.select_dtypes('object')"
   ]
  },
  {
   "cell_type": "code",
   "execution_count": 11,
   "id": "27e130c7",
   "metadata": {},
   "outputs": [],
   "source": [
    "from sklearn.preprocessing import LabelEncoder"
   ]
  },
  {
   "cell_type": "code",
   "execution_count": 12,
   "id": "caa3f2c7",
   "metadata": {},
   "outputs": [],
   "source": [
    "le = LabelEncoder()"
   ]
  },
  {
   "cell_type": "code",
   "execution_count": 14,
   "id": "aab2e839",
   "metadata": {},
   "outputs": [],
   "source": [
    "data['Pos1'] = le.fit_transform(data['Pos1'])\n",
    "data['Pos2'] = le.fit_transform(data['Pos2'])\n",
    "data['Tm'] = le.fit_transform(data['Tm'])\n",
    "data['Season'] = le.fit_transform(data['Season'])\n",
    "data['Conference'] = le.fit_transform(data['Conference'])\n",
    "data['Role'] = le.fit_transform(data['Role'])\n",
    "data['Play'] = le.fit_transform(data['Play'])"
   ]
  },
  {
   "cell_type": "code",
   "execution_count": 15,
   "id": "44360c34",
   "metadata": {},
   "outputs": [
    {
     "data": {
      "text/html": [
       "<div>\n",
       "<style scoped>\n",
       "    .dataframe tbody tr th:only-of-type {\n",
       "        vertical-align: middle;\n",
       "    }\n",
       "\n",
       "    .dataframe tbody tr th {\n",
       "        vertical-align: top;\n",
       "    }\n",
       "\n",
       "    .dataframe thead th {\n",
       "        text-align: right;\n",
       "    }\n",
       "</style>\n",
       "<table border=\"1\" class=\"dataframe\">\n",
       "  <thead>\n",
       "    <tr style=\"text-align: right;\">\n",
       "      <th></th>\n",
       "      <th>Rk</th>\n",
       "      <th>Pos1</th>\n",
       "      <th>Pos2</th>\n",
       "      <th>Age</th>\n",
       "      <th>Tm</th>\n",
       "      <th>G</th>\n",
       "      <th>GS</th>\n",
       "      <th>MP</th>\n",
       "      <th>FG</th>\n",
       "      <th>FGA</th>\n",
       "      <th>...</th>\n",
       "      <th>Conference</th>\n",
       "      <th>Role</th>\n",
       "      <th>Fvot</th>\n",
       "      <th>FRank</th>\n",
       "      <th>Pvot</th>\n",
       "      <th>PRank</th>\n",
       "      <th>Mvot</th>\n",
       "      <th>MRank</th>\n",
       "      <th>Score</th>\n",
       "      <th>Play</th>\n",
       "    </tr>\n",
       "  </thead>\n",
       "  <tbody>\n",
       "    <tr>\n",
       "      <th>0</th>\n",
       "      <td>170</td>\n",
       "      <td>0</td>\n",
       "      <td>1</td>\n",
       "      <td>24</td>\n",
       "      <td>6</td>\n",
       "      <td>22</td>\n",
       "      <td>0</td>\n",
       "      <td>7.4</td>\n",
       "      <td>0.8</td>\n",
       "      <td>1.9</td>\n",
       "      <td>...</td>\n",
       "      <td>1</td>\n",
       "      <td>1</td>\n",
       "      <td>786</td>\n",
       "      <td>123</td>\n",
       "      <td>0.0</td>\n",
       "      <td>0.0</td>\n",
       "      <td>0.0</td>\n",
       "      <td>0.0</td>\n",
       "      <td>83.5</td>\n",
       "      <td>0</td>\n",
       "    </tr>\n",
       "    <tr>\n",
       "      <th>1</th>\n",
       "      <td>58</td>\n",
       "      <td>2</td>\n",
       "      <td>1</td>\n",
       "      <td>32</td>\n",
       "      <td>11</td>\n",
       "      <td>65</td>\n",
       "      <td>0</td>\n",
       "      <td>13.8</td>\n",
       "      <td>1.9</td>\n",
       "      <td>4.6</td>\n",
       "      <td>...</td>\n",
       "      <td>0</td>\n",
       "      <td>0</td>\n",
       "      <td>2474</td>\n",
       "      <td>64</td>\n",
       "      <td>0.0</td>\n",
       "      <td>0.0</td>\n",
       "      <td>0.0</td>\n",
       "      <td>0.0</td>\n",
       "      <td>48.2</td>\n",
       "      <td>0</td>\n",
       "    </tr>\n",
       "    <tr>\n",
       "      <th>2</th>\n",
       "      <td>157</td>\n",
       "      <td>3</td>\n",
       "      <td>1</td>\n",
       "      <td>21</td>\n",
       "      <td>21</td>\n",
       "      <td>80</td>\n",
       "      <td>72</td>\n",
       "      <td>28.7</td>\n",
       "      <td>4.9</td>\n",
       "      <td>10.8</td>\n",
       "      <td>...</td>\n",
       "      <td>0</td>\n",
       "      <td>1</td>\n",
       "      <td>22774</td>\n",
       "      <td>29</td>\n",
       "      <td>0.0</td>\n",
       "      <td>0.0</td>\n",
       "      <td>0.0</td>\n",
       "      <td>0.0</td>\n",
       "      <td>40.0</td>\n",
       "      <td>0</td>\n",
       "    </tr>\n",
       "    <tr>\n",
       "      <th>3</th>\n",
       "      <td>352</td>\n",
       "      <td>1</td>\n",
       "      <td>1</td>\n",
       "      <td>25</td>\n",
       "      <td>17</td>\n",
       "      <td>18</td>\n",
       "      <td>0</td>\n",
       "      <td>7.5</td>\n",
       "      <td>1.3</td>\n",
       "      <td>3.0</td>\n",
       "      <td>...</td>\n",
       "      <td>1</td>\n",
       "      <td>1</td>\n",
       "      <td>861</td>\n",
       "      <td>120</td>\n",
       "      <td>1.0</td>\n",
       "      <td>52.0</td>\n",
       "      <td>0.0</td>\n",
       "      <td>0.0</td>\n",
       "      <td>75.5</td>\n",
       "      <td>0</td>\n",
       "    </tr>\n",
       "    <tr>\n",
       "      <th>4</th>\n",
       "      <td>10</td>\n",
       "      <td>1</td>\n",
       "      <td>1</td>\n",
       "      <td>26</td>\n",
       "      <td>24</td>\n",
       "      <td>61</td>\n",
       "      <td>25</td>\n",
       "      <td>29.1</td>\n",
       "      <td>3.0</td>\n",
       "      <td>7.6</td>\n",
       "      <td>...</td>\n",
       "      <td>1</td>\n",
       "      <td>1</td>\n",
       "      <td>4971</td>\n",
       "      <td>69</td>\n",
       "      <td>7.0</td>\n",
       "      <td>23.0</td>\n",
       "      <td>0.0</td>\n",
       "      <td>0.0</td>\n",
       "      <td>42.8</td>\n",
       "      <td>0</td>\n",
       "    </tr>\n",
       "  </tbody>\n",
       "</table>\n",
       "<p>5 rows × 43 columns</p>\n",
       "</div>"
      ],
      "text/plain": [
       "    Rk  Pos1  Pos2  Age  Tm   G  GS    MP   FG   FGA  ...  Conference  Role  \\\n",
       "0  170     0     1   24   6  22   0   7.4  0.8   1.9  ...           1     1   \n",
       "1   58     2     1   32  11  65   0  13.8  1.9   4.6  ...           0     0   \n",
       "2  157     3     1   21  21  80  72  28.7  4.9  10.8  ...           0     1   \n",
       "3  352     1     1   25  17  18   0   7.5  1.3   3.0  ...           1     1   \n",
       "4   10     1     1   26  24  61  25  29.1  3.0   7.6  ...           1     1   \n",
       "\n",
       "    Fvot  FRank  Pvot  PRank  Mvot  MRank  Score  Play  \n",
       "0    786    123   0.0    0.0   0.0    0.0   83.5     0  \n",
       "1   2474     64   0.0    0.0   0.0    0.0   48.2     0  \n",
       "2  22774     29   0.0    0.0   0.0    0.0   40.0     0  \n",
       "3    861    120   1.0   52.0   0.0    0.0   75.5     0  \n",
       "4   4971     69   7.0   23.0   0.0    0.0   42.8     0  \n",
       "\n",
       "[5 rows x 43 columns]"
      ]
     },
     "execution_count": 15,
     "metadata": {},
     "output_type": "execute_result"
    }
   ],
   "source": [
    "data.head()"
   ]
  },
  {
   "cell_type": "code",
   "execution_count": 16,
   "id": "044ba59f",
   "metadata": {},
   "outputs": [],
   "source": [
    "X = data.drop(columns = ['Play'])\n",
    "y = data['Play']"
   ]
  },
  {
   "cell_type": "code",
   "execution_count": 17,
   "id": "cf149512",
   "metadata": {},
   "outputs": [],
   "source": [
    "from sklearn.preprocessing import StandardScaler"
   ]
  },
  {
   "cell_type": "code",
   "execution_count": 18,
   "id": "9b9f0f99",
   "metadata": {},
   "outputs": [],
   "source": [
    "sc = StandardScaler()\n",
    "X = sc.fit_transform(X)"
   ]
  },
  {
   "cell_type": "code",
   "execution_count": 19,
   "id": "d12f2a06",
   "metadata": {},
   "outputs": [],
   "source": [
    "from sklearn.model_selection import train_test_split "
   ]
  },
  {
   "cell_type": "code",
   "execution_count": 20,
   "id": "f240c277",
   "metadata": {},
   "outputs": [],
   "source": [
    "X_train, X_test, y_train, y_test = train_test_split(X, y, test_size = 0.25, random_state = 100)"
   ]
  },
  {
   "cell_type": "code",
   "execution_count": 21,
   "id": "e3d42ff4",
   "metadata": {},
   "outputs": [
    {
     "data": {
      "text/html": [
       "<style>#sk-container-id-1 {color: black;background-color: white;}#sk-container-id-1 pre{padding: 0;}#sk-container-id-1 div.sk-toggleable {background-color: white;}#sk-container-id-1 label.sk-toggleable__label {cursor: pointer;display: block;width: 100%;margin-bottom: 0;padding: 0.3em;box-sizing: border-box;text-align: center;}#sk-container-id-1 label.sk-toggleable__label-arrow:before {content: \"▸\";float: left;margin-right: 0.25em;color: #696969;}#sk-container-id-1 label.sk-toggleable__label-arrow:hover:before {color: black;}#sk-container-id-1 div.sk-estimator:hover label.sk-toggleable__label-arrow:before {color: black;}#sk-container-id-1 div.sk-toggleable__content {max-height: 0;max-width: 0;overflow: hidden;text-align: left;background-color: #f0f8ff;}#sk-container-id-1 div.sk-toggleable__content pre {margin: 0.2em;color: black;border-radius: 0.25em;background-color: #f0f8ff;}#sk-container-id-1 input.sk-toggleable__control:checked~div.sk-toggleable__content {max-height: 200px;max-width: 100%;overflow: auto;}#sk-container-id-1 input.sk-toggleable__control:checked~label.sk-toggleable__label-arrow:before {content: \"▾\";}#sk-container-id-1 div.sk-estimator input.sk-toggleable__control:checked~label.sk-toggleable__label {background-color: #d4ebff;}#sk-container-id-1 div.sk-label input.sk-toggleable__control:checked~label.sk-toggleable__label {background-color: #d4ebff;}#sk-container-id-1 input.sk-hidden--visually {border: 0;clip: rect(1px 1px 1px 1px);clip: rect(1px, 1px, 1px, 1px);height: 1px;margin: -1px;overflow: hidden;padding: 0;position: absolute;width: 1px;}#sk-container-id-1 div.sk-estimator {font-family: monospace;background-color: #f0f8ff;border: 1px dotted black;border-radius: 0.25em;box-sizing: border-box;margin-bottom: 0.5em;}#sk-container-id-1 div.sk-estimator:hover {background-color: #d4ebff;}#sk-container-id-1 div.sk-parallel-item::after {content: \"\";width: 100%;border-bottom: 1px solid gray;flex-grow: 1;}#sk-container-id-1 div.sk-label:hover label.sk-toggleable__label {background-color: #d4ebff;}#sk-container-id-1 div.sk-serial::before {content: \"\";position: absolute;border-left: 1px solid gray;box-sizing: border-box;top: 0;bottom: 0;left: 50%;z-index: 0;}#sk-container-id-1 div.sk-serial {display: flex;flex-direction: column;align-items: center;background-color: white;padding-right: 0.2em;padding-left: 0.2em;position: relative;}#sk-container-id-1 div.sk-item {position: relative;z-index: 1;}#sk-container-id-1 div.sk-parallel {display: flex;align-items: stretch;justify-content: center;background-color: white;position: relative;}#sk-container-id-1 div.sk-item::before, #sk-container-id-1 div.sk-parallel-item::before {content: \"\";position: absolute;border-left: 1px solid gray;box-sizing: border-box;top: 0;bottom: 0;left: 50%;z-index: -1;}#sk-container-id-1 div.sk-parallel-item {display: flex;flex-direction: column;z-index: 1;position: relative;background-color: white;}#sk-container-id-1 div.sk-parallel-item:first-child::after {align-self: flex-end;width: 50%;}#sk-container-id-1 div.sk-parallel-item:last-child::after {align-self: flex-start;width: 50%;}#sk-container-id-1 div.sk-parallel-item:only-child::after {width: 0;}#sk-container-id-1 div.sk-dashed-wrapped {border: 1px dashed gray;margin: 0 0.4em 0.5em 0.4em;box-sizing: border-box;padding-bottom: 0.4em;background-color: white;}#sk-container-id-1 div.sk-label label {font-family: monospace;font-weight: bold;display: inline-block;line-height: 1.2em;}#sk-container-id-1 div.sk-label-container {text-align: center;}#sk-container-id-1 div.sk-container {/* jupyter's `normalize.less` sets `[hidden] { display: none; }` but bootstrap.min.css set `[hidden] { display: none !important; }` so we also need the `!important` here to be able to override the default hidden behavior on the sphinx rendered scikit-learn.org. See: https://github.com/scikit-learn/scikit-learn/issues/21755 */display: inline-block !important;position: relative;}#sk-container-id-1 div.sk-text-repr-fallback {display: none;}</style><div id=\"sk-container-id-1\" class=\"sk-top-container\"><div class=\"sk-text-repr-fallback\"><pre>LogisticRegression()</pre><b>In a Jupyter environment, please rerun this cell to show the HTML representation or trust the notebook. <br />On GitHub, the HTML representation is unable to render, please try loading this page with nbviewer.org.</b></div><div class=\"sk-container\" hidden><div class=\"sk-item\"><div class=\"sk-estimator sk-toggleable\"><input class=\"sk-toggleable__control sk-hidden--visually\" id=\"sk-estimator-id-1\" type=\"checkbox\" checked><label for=\"sk-estimator-id-1\" class=\"sk-toggleable__label sk-toggleable__label-arrow\">LogisticRegression</label><div class=\"sk-toggleable__content\"><pre>LogisticRegression()</pre></div></div></div></div></div>"
      ],
      "text/plain": [
       "LogisticRegression()"
      ]
     },
     "execution_count": 21,
     "metadata": {},
     "output_type": "execute_result"
    }
   ],
   "source": [
    "from sklearn.linear_model import LogisticRegression\n",
    "\n",
    "log_reg = LogisticRegression()\n",
    "log_reg.fit(X_train, y_train)"
   ]
  },
  {
   "cell_type": "code",
   "execution_count": 22,
   "id": "f783d8c8",
   "metadata": {},
   "outputs": [],
   "source": [
    "y_pred = log_reg.predict(X_test)"
   ]
  },
  {
   "cell_type": "code",
   "execution_count": 26,
   "id": "f027abe4",
   "metadata": {},
   "outputs": [],
   "source": [
    "from sklearn.metrics import accuracy_score, roc_auc_score"
   ]
  },
  {
   "cell_type": "code",
   "execution_count": 25,
   "id": "cbb4e4c9",
   "metadata": {},
   "outputs": [
    {
     "data": {
      "text/plain": [
       "0.9914772727272727"
      ]
     },
     "execution_count": 25,
     "metadata": {},
     "output_type": "execute_result"
    }
   ],
   "source": [
    "accuracy_score(y_pred, y_test)"
   ]
  },
  {
   "cell_type": "code",
   "execution_count": 27,
   "id": "4232d7f5",
   "metadata": {},
   "outputs": [
    {
     "data": {
      "text/plain": [
       "0.9508703783628255"
      ]
     },
     "execution_count": 27,
     "metadata": {},
     "output_type": "execute_result"
    }
   ],
   "source": [
    "roc_auc_score(y_pred, y_test)"
   ]
  },
  {
   "cell_type": "markdown",
   "id": "a53b0399",
   "metadata": {},
   "source": [
    "### Transform the data with PCA"
   ]
  },
  {
   "cell_type": "code",
   "execution_count": 28,
   "id": "15d7bc02",
   "metadata": {},
   "outputs": [],
   "source": [
    "from sklearn.decomposition import PCA"
   ]
  },
  {
   "cell_type": "code",
   "execution_count": 29,
   "id": "daf74489",
   "metadata": {},
   "outputs": [],
   "source": [
    "pca = PCA(n_components = 0.9)"
   ]
  },
  {
   "cell_type": "code",
   "execution_count": 30,
   "id": "4adeff2b",
   "metadata": {},
   "outputs": [],
   "source": [
    "pca_data = pca.fit_transform(X)"
   ]
  },
  {
   "cell_type": "code",
   "execution_count": 31,
   "id": "7f7feae5",
   "metadata": {},
   "outputs": [
    {
     "data": {
      "text/plain": [
       "(1408, 17)"
      ]
     },
     "execution_count": 31,
     "metadata": {},
     "output_type": "execute_result"
    }
   ],
   "source": [
    "pca_data.shape"
   ]
  },
  {
   "cell_type": "markdown",
   "id": "67e1cbec",
   "metadata": {},
   "source": [
    "### Train the logistic regression model again with transformed pca_data"
   ]
  },
  {
   "cell_type": "code",
   "execution_count": 32,
   "id": "b71942d3",
   "metadata": {},
   "outputs": [],
   "source": [
    "X_train, X_test, y_train, y_test = train_test_split(pca_data, y, test_size = 0.25, random_state = 100)"
   ]
  },
  {
   "cell_type": "code",
   "execution_count": 33,
   "id": "9f9d87d2",
   "metadata": {},
   "outputs": [
    {
     "data": {
      "text/html": [
       "<style>#sk-container-id-2 {color: black;background-color: white;}#sk-container-id-2 pre{padding: 0;}#sk-container-id-2 div.sk-toggleable {background-color: white;}#sk-container-id-2 label.sk-toggleable__label {cursor: pointer;display: block;width: 100%;margin-bottom: 0;padding: 0.3em;box-sizing: border-box;text-align: center;}#sk-container-id-2 label.sk-toggleable__label-arrow:before {content: \"▸\";float: left;margin-right: 0.25em;color: #696969;}#sk-container-id-2 label.sk-toggleable__label-arrow:hover:before {color: black;}#sk-container-id-2 div.sk-estimator:hover label.sk-toggleable__label-arrow:before {color: black;}#sk-container-id-2 div.sk-toggleable__content {max-height: 0;max-width: 0;overflow: hidden;text-align: left;background-color: #f0f8ff;}#sk-container-id-2 div.sk-toggleable__content pre {margin: 0.2em;color: black;border-radius: 0.25em;background-color: #f0f8ff;}#sk-container-id-2 input.sk-toggleable__control:checked~div.sk-toggleable__content {max-height: 200px;max-width: 100%;overflow: auto;}#sk-container-id-2 input.sk-toggleable__control:checked~label.sk-toggleable__label-arrow:before {content: \"▾\";}#sk-container-id-2 div.sk-estimator input.sk-toggleable__control:checked~label.sk-toggleable__label {background-color: #d4ebff;}#sk-container-id-2 div.sk-label input.sk-toggleable__control:checked~label.sk-toggleable__label {background-color: #d4ebff;}#sk-container-id-2 input.sk-hidden--visually {border: 0;clip: rect(1px 1px 1px 1px);clip: rect(1px, 1px, 1px, 1px);height: 1px;margin: -1px;overflow: hidden;padding: 0;position: absolute;width: 1px;}#sk-container-id-2 div.sk-estimator {font-family: monospace;background-color: #f0f8ff;border: 1px dotted black;border-radius: 0.25em;box-sizing: border-box;margin-bottom: 0.5em;}#sk-container-id-2 div.sk-estimator:hover {background-color: #d4ebff;}#sk-container-id-2 div.sk-parallel-item::after {content: \"\";width: 100%;border-bottom: 1px solid gray;flex-grow: 1;}#sk-container-id-2 div.sk-label:hover label.sk-toggleable__label {background-color: #d4ebff;}#sk-container-id-2 div.sk-serial::before {content: \"\";position: absolute;border-left: 1px solid gray;box-sizing: border-box;top: 0;bottom: 0;left: 50%;z-index: 0;}#sk-container-id-2 div.sk-serial {display: flex;flex-direction: column;align-items: center;background-color: white;padding-right: 0.2em;padding-left: 0.2em;position: relative;}#sk-container-id-2 div.sk-item {position: relative;z-index: 1;}#sk-container-id-2 div.sk-parallel {display: flex;align-items: stretch;justify-content: center;background-color: white;position: relative;}#sk-container-id-2 div.sk-item::before, #sk-container-id-2 div.sk-parallel-item::before {content: \"\";position: absolute;border-left: 1px solid gray;box-sizing: border-box;top: 0;bottom: 0;left: 50%;z-index: -1;}#sk-container-id-2 div.sk-parallel-item {display: flex;flex-direction: column;z-index: 1;position: relative;background-color: white;}#sk-container-id-2 div.sk-parallel-item:first-child::after {align-self: flex-end;width: 50%;}#sk-container-id-2 div.sk-parallel-item:last-child::after {align-self: flex-start;width: 50%;}#sk-container-id-2 div.sk-parallel-item:only-child::after {width: 0;}#sk-container-id-2 div.sk-dashed-wrapped {border: 1px dashed gray;margin: 0 0.4em 0.5em 0.4em;box-sizing: border-box;padding-bottom: 0.4em;background-color: white;}#sk-container-id-2 div.sk-label label {font-family: monospace;font-weight: bold;display: inline-block;line-height: 1.2em;}#sk-container-id-2 div.sk-label-container {text-align: center;}#sk-container-id-2 div.sk-container {/* jupyter's `normalize.less` sets `[hidden] { display: none; }` but bootstrap.min.css set `[hidden] { display: none !important; }` so we also need the `!important` here to be able to override the default hidden behavior on the sphinx rendered scikit-learn.org. See: https://github.com/scikit-learn/scikit-learn/issues/21755 */display: inline-block !important;position: relative;}#sk-container-id-2 div.sk-text-repr-fallback {display: none;}</style><div id=\"sk-container-id-2\" class=\"sk-top-container\"><div class=\"sk-text-repr-fallback\"><pre>LogisticRegression()</pre><b>In a Jupyter environment, please rerun this cell to show the HTML representation or trust the notebook. <br />On GitHub, the HTML representation is unable to render, please try loading this page with nbviewer.org.</b></div><div class=\"sk-container\" hidden><div class=\"sk-item\"><div class=\"sk-estimator sk-toggleable\"><input class=\"sk-toggleable__control sk-hidden--visually\" id=\"sk-estimator-id-2\" type=\"checkbox\" checked><label for=\"sk-estimator-id-2\" class=\"sk-toggleable__label sk-toggleable__label-arrow\">LogisticRegression</label><div class=\"sk-toggleable__content\"><pre>LogisticRegression()</pre></div></div></div></div></div>"
      ],
      "text/plain": [
       "LogisticRegression()"
      ]
     },
     "execution_count": 33,
     "metadata": {},
     "output_type": "execute_result"
    }
   ],
   "source": [
    "from sklearn.linear_model import LogisticRegression\n",
    "\n",
    "log_reg = LogisticRegression()\n",
    "log_reg.fit(X_train, y_train)"
   ]
  },
  {
   "cell_type": "code",
   "execution_count": 34,
   "id": "0458aaf9",
   "metadata": {},
   "outputs": [],
   "source": [
    "y_pred = log_reg.predict(X_test)"
   ]
  },
  {
   "cell_type": "code",
   "execution_count": 35,
   "id": "6e9b3fab",
   "metadata": {},
   "outputs": [
    {
     "data": {
      "text/plain": [
       "0.9204819277108435"
      ]
     },
     "execution_count": 35,
     "metadata": {},
     "output_type": "execute_result"
    }
   ],
   "source": [
    "roc_auc_score(y_pred, y_test)"
   ]
  },
  {
   "cell_type": "code",
   "execution_count": null,
   "id": "44909ddd",
   "metadata": {},
   "outputs": [],
   "source": []
  }
 ],
 "metadata": {
  "kernelspec": {
   "display_name": "Python 3 (ipykernel)",
   "language": "python",
   "name": "python3"
  },
  "language_info": {
   "codemirror_mode": {
    "name": "ipython",
    "version": 3
   },
   "file_extension": ".py",
   "mimetype": "text/x-python",
   "name": "python",
   "nbconvert_exporter": "python",
   "pygments_lexer": "ipython3",
   "version": "3.8.8"
  }
 },
 "nbformat": 4,
 "nbformat_minor": 5
}
